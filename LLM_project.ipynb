{
  "nbformat": 4,
  "nbformat_minor": 0,
  "metadata": {
    "colab": {
      "provenance": [],
      "gpuType": "A100"
    },
    "kernelspec": {
      "name": "python3",
      "display_name": "Python 3"
    },
    "language_info": {
      "name": "python"
    },
    "accelerator": "GPU"
  },
  "cells": [
    {
      "cell_type": "code",
      "source": [
        "from transformers import AutoModelForCausalLM, AutoTokenizer, pipeline\n",
        "\n",
        "model = AutoModelForCausalLM.from_pretrained(\"VishalMysore/cookgptlama\")\n",
        "tokenizer = AutoTokenizer.from_pretrained(\"VishalMysore/cookgptlama\")"
      ],
      "metadata": {
        "id": "sz2paJk-UYkj"
      },
      "execution_count": 13,
      "outputs": []
    },
    {
      "cell_type": "code",
      "source": [
        "# model_id = \"VishalMysore/cookgptlama\"\n",
        "\n",
        "# tokenizer = AutoTokenizer.from_pretrained(model_id)"
      ],
      "metadata": {
        "id": "Wc6exJxWUYnb"
      },
      "execution_count": 14,
      "outputs": []
    },
    {
      "cell_type": "code",
      "source": [
        "pipe = pipeline(\"text-generation\", model=model, tokenizer=tokenizer, device=0)\n",
        "\n",
        "# system instruction\n",
        "messages = [\n",
        "    {\n",
        "        \"role\": \"system\",\n",
        "        \"content\": \"You are an expert chef with vast knowledge of recipes from global cuisines. Your task is to provide users with detailed recipes, including ingredients, step-by-step cooking instructions, preparation time, and tailored dietary preferences or restrictions options.\",\n",
        "    }\n",
        "]"
      ],
      "metadata": {
        "id": "Jmsw7EWKhH7t"
      },
      "execution_count": 15,
      "outputs": []
    },
    {
      "cell_type": "code",
      "source": [
        "# handling a conversation with the model\n",
        "def generate_response(pipe, messages, input):\n",
        "  messages.append({\"role\": \"user\", \"content\": input})\n",
        "  prompt = pipe.tokenizer.apply_chat_template(messages, tokenize=False, add_generation_prompt=True)\n",
        "  outputs = pipe(prompt, do_sample=True, temperature=0.7, top_k=50, top_p=0.95)\n",
        "\n",
        "  # get the assistant response from the output\n",
        "  model_response = outputs[0][\"generated_text\"].split(\"<|assistant|>\")[-1].strip()\n",
        "  # print(model_response)\n",
        "\n",
        "  # append the model's response to the messages\n",
        "  messages.append({\"role\": \"assistant\", \"content\": model_response})\n",
        "\n",
        "  return model_response, messages\n"
      ],
      "metadata": {
        "id": "VPT6cmxggMow"
      },
      "execution_count": 16,
      "outputs": []
    },
    {
      "cell_type": "code",
      "source": [
        "first_input = \"Can you tell me how to make lasagna? I'm vegan.\"\n",
        "response, messages = generate_response(pipe, messages, first_input)\n",
        "print(response)"
      ],
      "metadata": {
        "id": "HuRD_8kWhzDJ",
        "colab": {
          "base_uri": "https://localhost:8080/"
        },
        "outputId": "4e00cdaf-69f9-4b39-d20e-523eb4e2f779"
      },
      "execution_count": 17,
      "outputs": [
        {
          "output_type": "stream",
          "name": "stdout",
          "text": [
            "Sure! Here's a recipe for vegan lasagna that you can make using a pressure cooker:\n",
            "\n",
            "Ingredients:\n",
            "- 1 lb ground beef (or lamb)\n",
            "- 1 onion, chopped\n",
            "- 2 garlic cloves, minced\n",
            "- 2 carrots, diced\n",
            "- 2 potatoes, peeled and diced\n",
            "- 1 can (28 oz) tomatoes, drained\n",
            "- 2 cups vegetable broth\n",
            "- 1 cup all-purpose flour\n",
            "- 1 tsp dried basil\n",
            "- 1 tsp dried oregano\n",
            "- Salt and pepper to taste\n",
            "- 2 tbsp olive oil\n",
            "\n",
            "Instructions:\n",
            "1. In a large skillet, cook the ground beef and drain any excess fat.\n",
            "2. Add the onion, garlic, carrots, and potatoes, and cook until the vegetables are tender.\n",
            "3. Add the tomatoes, vegetable broth, and basil, oregano, salt, and pepper, and bring the mixture to a boil.\n",
            "4. Reduce the heat to low, cover, and let it simmer for 20-25 minutes.\n",
            "5. Once the lasagna is done, remove from heat and let it cool.\n",
            "6. Preheat a 9-inch pie dish by placing it in the oven and baking it for 10 minutes.\n",
            "7. Remove the pie dish from the oven and let it cool completely.\n",
            "8. To assemble the lasagna, spoon a layer of lasagna noodles into the pie dish, spreading it evenly.\n",
            "9. In a separate skillet, cook the remaining lasagna noodles according to the package instructions, adding salt and pepper as needed.\n",
            "10. Spread a layer of sauce over the noodles and top with the cooked lasagna noodles.\n",
            "11. Place another layer of lasagna noodles on top and repeat the process until you have covered the entire pie dish.\n",
            "12. Bake the lasagna for 35-40 minutes or until the top is golden brown and bubbly.\n",
            "13. Remove from the oven and let it cool completely before serving.\n",
            "\n",
            "Suggested dietary preferences:\n",
            "- Vegetarian: Add some of the vegetables from the list below, such as broccoli, zucchini, and bell pepper, for a plant-based lasagna.\n",
            "- Low carb: Add some of the veggies from the list below, such as cauliflower, kale, or spinach, for a low-carb lasagna.\n",
            "- Gluten-free: Use gluten-free lasagna noodles instead of regular noodles.\n",
            "- Low-fat: Use low-fat lasagna noodles instead of regular noodles.\n"
          ]
        }
      ]
    },
    {
      "cell_type": "code",
      "source": [
        "second_input = \"Can you suggest something to drink with the lasagna? I want alcohol-free.\"\n",
        "response, messages = generate_response(pipe, messages, second_input)\n",
        "print(response)"
      ],
      "metadata": {
        "id": "qsKh71pnh5dH",
        "colab": {
          "base_uri": "https://localhost:8080/"
        },
        "outputId": "deb66316-885a-4fe6-c63f-163078ce92f2"
      },
      "execution_count": 18,
      "outputs": [
        {
          "output_type": "stream",
          "name": "stdout",
          "text": [
            "Sure, here are some suggestions for what to drink with your vegan lasagna:\n",
            "\n",
            "1. Sparkling water (optional): This is a refreshing beverage that is perfect for a refreshing end to your meal.\n",
            "\n",
            "2. A cocktail: A gin and tonic or a Bloody Mary are both great options for a cocktail to wash down your lasagna.\n",
            "\n",
            "3. Coffee: A hot cup of coffee can be a great way to end your meal.\n",
            "\n",
            "4. Wine: A glass of red or white wine is an excellent choice to pair with your lasagna.\n",
            "\n",
            "5. Beer: A cold beer is a great way to end your meal.\n",
            "\n",
            "6. Whiskey: A whiskey is a great way to get your whiskey fix without alcohol.\n",
            "\n",
            "7. Tea: A cup of tea is a great way to cool down after a meal.\n",
            "\n",
            "I hope you find these suggestions helpful!\n"
          ]
        }
      ]
    },
    {
      "cell_type": "code",
      "source": [
        "third_input = \"What food recipe I asked for?\"\n",
        "response, messages = generate_response(pipe, messages, third_input)\n",
        "print(response)"
      ],
      "metadata": {
        "id": "FQJjC5qLotaH",
        "colab": {
          "base_uri": "https://localhost:8080/"
        },
        "outputId": "e97c8a20-9a8a-4163-8288-422dedbad5b9"
      },
      "execution_count": 19,
      "outputs": [
        {
          "output_type": "stream",
          "name": "stdout",
          "text": [
            "I don't have the capability to create specific recipes, but I can tell you that here are some of the popular recipes you can make with vegan lasagna:\n",
            "\n",
            "1. Vegan Lasagna with Tomato Sauce Recipe:\n",
            "Ingredients:\n",
            "- 1 lb ground beef (or lamb), drained and diced\n",
            "- 1 onion, chopped\n",
            "- 2 garlic cloves, minced\n",
            "- 2 carrots, peeled and diced\n",
            "- 2 potatoes, peeled and diced\n",
            "- 1 can (28 oz) tomato sauce\n",
            "- 2 cups all-purpose flour\n",
            "- 1 tsp dried basil\n",
            "- 1 tsp dried oregano\n",
            "- Salt and pepper, to taste\n",
            "- 2 tbsp olive oil\n",
            "\n",
            "Instructions:\n",
            "1. In a large skillet, heat olive oil over medium-high heat.\n",
            "2. Add the diced onion and cook until softened, about 5 minutes.\n",
            "3. Add the garlic and cook for an additional minute.\n",
            "4. Add the ground beef and cook until browned, breaking up the meat with a spatula as it cooks.\n",
            "5. Add the diced carrots and cook until they are softened.\n",
            "6. Add the diced potatoes, tomato sauce, dried basil, oregano, salt, and pepper.\n",
            "7. Cook until the vegetables are tender, about 10 minutes.\n",
            "8. In a small bowl, combine the flour and water to make a smooth paste.\n",
            "9. Gradually pour in the flour paste, whisking constantly to avoid lumps.\n",
            "10. Continue cooking until the sauce thickens, about 5-7 minutes.\n",
            "11. Let the sauce cool slightly before serving.\n",
            "\n",
            "2. Vegan Lasagna Recipe with Basil Pesto Sauce Recipe:\n",
            "Ingredients:\n",
            "- 1 lb ground beef (or lamb), drained and diced\n",
            "- 1 onion, chopped\n",
            "- 2 garlic cloves, minced\n",
            "- 2 carrots, peeled and diced\n",
            "- 2 potatoes, peeled and diced\n",
            "- 1 can (28 oz) tomato sauce\n",
            "- 1 can (48 oz) artichoke hearts, drained and chopped\n",
            "- 1 cup basil pesto sauce\n",
            "- 1 tsp dried oregano\n",
            "- 1 tsp salt\n",
            "- 1 tsp black pepper\n",
            "\n",
            "Instructions:\n",
            "1. In a large skillet, heat olive oil over medium heat.\n",
            "2. Add the diced onion and garlic and cook until softened, about 5 minutes.\n",
            "3. Add the ground beef and cook until browned, breaking it up with a spatula as it cooks.\n",
            "4. Add the diced carrots and cook until they are softened, about 5 minutes.\n",
            "5. Add the diced potatoes, tomato sauce, and artichoke hearts and cook until the vegetables are tender, about 10 minutes.\n",
            "6. In a small bowl, whisk together the basil pesto sauce, salt, and black pepper.\n",
            "7. Spread the basil pesto sauce over the lasagna noodles, spreading it evenly.\n",
            "8. Add the cooked vegetables and the cooked ground beef on top.\n",
            "9. Cover the skillet with a lid and let the lasagna cook for about 20 minutes, until the sauce thickens.\n",
            "10. Remove the lid and let the lasagna cook for an additional 5-7 minutes, until the top is golden brown and bubbly.\n",
            "11. Remove from the heat and let the lasagna cool for a few minutes before serving.\n",
            "\n",
            "Enjoy your Vegan Lasagna with Basil Pesto Sauce recipe!\n"
          ]
        }
      ]
    },
    {
      "cell_type": "code",
      "source": [
        "print(messages)"
      ],
      "metadata": {
        "id": "3GLJYowSkwVt",
        "colab": {
          "base_uri": "https://localhost:8080/"
        },
        "outputId": "c636c5ee-7679-4070-a7e9-33378097af6b"
      },
      "execution_count": 20,
      "outputs": [
        {
          "output_type": "stream",
          "name": "stdout",
          "text": [
            "[{'role': 'system', 'content': 'You are an expert chef with vast knowledge of recipes from global cuisines. Your task is to provide users with detailed recipes, including ingredients, step-by-step cooking instructions, preparation time, and tailored dietary preferences or restrictions options.'}, {'role': 'user', 'content': \"Can you tell me how to make lasagna? I'm vegan.\"}, {'role': 'assistant', 'content': \"Sure! Here's a recipe for vegan lasagna that you can make using a pressure cooker:\\n\\nIngredients:\\n- 1 lb ground beef (or lamb)\\n- 1 onion, chopped\\n- 2 garlic cloves, minced\\n- 2 carrots, diced\\n- 2 potatoes, peeled and diced\\n- 1 can (28 oz) tomatoes, drained\\n- 2 cups vegetable broth\\n- 1 cup all-purpose flour\\n- 1 tsp dried basil\\n- 1 tsp dried oregano\\n- Salt and pepper to taste\\n- 2 tbsp olive oil\\n\\nInstructions:\\n1. In a large skillet, cook the ground beef and drain any excess fat.\\n2. Add the onion, garlic, carrots, and potatoes, and cook until the vegetables are tender.\\n3. Add the tomatoes, vegetable broth, and basil, oregano, salt, and pepper, and bring the mixture to a boil.\\n4. Reduce the heat to low, cover, and let it simmer for 20-25 minutes.\\n5. Once the lasagna is done, remove from heat and let it cool.\\n6. Preheat a 9-inch pie dish by placing it in the oven and baking it for 10 minutes.\\n7. Remove the pie dish from the oven and let it cool completely.\\n8. To assemble the lasagna, spoon a layer of lasagna noodles into the pie dish, spreading it evenly.\\n9. In a separate skillet, cook the remaining lasagna noodles according to the package instructions, adding salt and pepper as needed.\\n10. Spread a layer of sauce over the noodles and top with the cooked lasagna noodles.\\n11. Place another layer of lasagna noodles on top and repeat the process until you have covered the entire pie dish.\\n12. Bake the lasagna for 35-40 minutes or until the top is golden brown and bubbly.\\n13. Remove from the oven and let it cool completely before serving.\\n\\nSuggested dietary preferences:\\n- Vegetarian: Add some of the vegetables from the list below, such as broccoli, zucchini, and bell pepper, for a plant-based lasagna.\\n- Low carb: Add some of the veggies from the list below, such as cauliflower, kale, or spinach, for a low-carb lasagna.\\n- Gluten-free: Use gluten-free lasagna noodles instead of regular noodles.\\n- Low-fat: Use low-fat lasagna noodles instead of regular noodles.\"}, {'role': 'user', 'content': 'Can you suggest something to drink with the lasagna? I want alcohol-free.'}, {'role': 'assistant', 'content': 'Sure, here are some suggestions for what to drink with your vegan lasagna:\\n\\n1. Sparkling water (optional): This is a refreshing beverage that is perfect for a refreshing end to your meal.\\n\\n2. A cocktail: A gin and tonic or a Bloody Mary are both great options for a cocktail to wash down your lasagna.\\n\\n3. Coffee: A hot cup of coffee can be a great way to end your meal.\\n\\n4. Wine: A glass of red or white wine is an excellent choice to pair with your lasagna.\\n\\n5. Beer: A cold beer is a great way to end your meal.\\n\\n6. Whiskey: A whiskey is a great way to get your whiskey fix without alcohol.\\n\\n7. Tea: A cup of tea is a great way to cool down after a meal.\\n\\nI hope you find these suggestions helpful!'}, {'role': 'user', 'content': 'What food recipe I asked for?'}, {'role': 'assistant', 'content': \"I don't have the capability to create specific recipes, but I can tell you that here are some of the popular recipes you can make with vegan lasagna:\\n\\n1. Vegan Lasagna with Tomato Sauce Recipe:\\nIngredients:\\n- 1 lb ground beef (or lamb), drained and diced\\n- 1 onion, chopped\\n- 2 garlic cloves, minced\\n- 2 carrots, peeled and diced\\n- 2 potatoes, peeled and diced\\n- 1 can (28 oz) tomato sauce\\n- 2 cups all-purpose flour\\n- 1 tsp dried basil\\n- 1 tsp dried oregano\\n- Salt and pepper, to taste\\n- 2 tbsp olive oil\\n\\nInstructions:\\n1. In a large skillet, heat olive oil over medium-high heat.\\n2. Add the diced onion and cook until softened, about 5 minutes.\\n3. Add the garlic and cook for an additional minute.\\n4. Add the ground beef and cook until browned, breaking up the meat with a spatula as it cooks.\\n5. Add the diced carrots and cook until they are softened.\\n6. Add the diced potatoes, tomato sauce, dried basil, oregano, salt, and pepper.\\n7. Cook until the vegetables are tender, about 10 minutes.\\n8. In a small bowl, combine the flour and water to make a smooth paste.\\n9. Gradually pour in the flour paste, whisking constantly to avoid lumps.\\n10. Continue cooking until the sauce thickens, about 5-7 minutes.\\n11. Let the sauce cool slightly before serving.\\n\\n2. Vegan Lasagna Recipe with Basil Pesto Sauce Recipe:\\nIngredients:\\n- 1 lb ground beef (or lamb), drained and diced\\n- 1 onion, chopped\\n- 2 garlic cloves, minced\\n- 2 carrots, peeled and diced\\n- 2 potatoes, peeled and diced\\n- 1 can (28 oz) tomato sauce\\n- 1 can (48 oz) artichoke hearts, drained and chopped\\n- 1 cup basil pesto sauce\\n- 1 tsp dried oregano\\n- 1 tsp salt\\n- 1 tsp black pepper\\n\\nInstructions:\\n1. In a large skillet, heat olive oil over medium heat.\\n2. Add the diced onion and garlic and cook until softened, about 5 minutes.\\n3. Add the ground beef and cook until browned, breaking it up with a spatula as it cooks.\\n4. Add the diced carrots and cook until they are softened, about 5 minutes.\\n5. Add the diced potatoes, tomato sauce, and artichoke hearts and cook until the vegetables are tender, about 10 minutes.\\n6. In a small bowl, whisk together the basil pesto sauce, salt, and black pepper.\\n7. Spread the basil pesto sauce over the lasagna noodles, spreading it evenly.\\n8. Add the cooked vegetables and the cooked ground beef on top.\\n9. Cover the skillet with a lid and let the lasagna cook for about 20 minutes, until the sauce thickens.\\n10. Remove the lid and let the lasagna cook for an additional 5-7 minutes, until the top is golden brown and bubbly.\\n11. Remove from the heat and let the lasagna cool for a few minutes before serving.\\n\\nEnjoy your Vegan Lasagna with Basil Pesto Sauce recipe!\"}]\n"
          ]
        }
      ]
    },
    {
      "cell_type": "code",
      "source": [
        "# # We use the tokenizer's chat template to format each message - see https://huggingface.co/docs/transformers/main/en/chat_templating\n",
        "# pipe = pipeline(\"text-generation\", model=model, tokenizer=tokenizer, device=0)\n",
        "# messages = [\n",
        "#     {\n",
        "#         \"role\": \"system\",\n",
        "#         \"content\": \"You are an expert chef with vast knowledge of recipes from global cuisines. Your task is to provide users with detailed recipes, including ingredients, step-by-step cooking instructions, preparation time, and tailored dietary preferences or restrictions options.\",\n",
        "#     },\n",
        "#     {\"role\": \"user\", \"content\": \"Can you tell me how to make lasagna? I'm vegan.\"},\n",
        "# ]\n",
        "# prompt = pipe.tokenizer.apply_chat_template(messages, tokenize=False, add_generation_prompt=True)\n",
        "# outputs = pipe(prompt, do_sample=True, temperature=0.7, top_k=50, top_p=0.95)\n",
        "# # max_new_tokens=256,\n",
        "# print(outputs[0][\"generated_text\"])"
      ],
      "metadata": {
        "id": "xYMwevXkUYrL"
      },
      "execution_count": 21,
      "outputs": []
    },
    {
      "cell_type": "code",
      "source": [
        "# print(outputs)"
      ],
      "metadata": {
        "id": "Egdq1YqmbrCG"
      },
      "execution_count": 22,
      "outputs": []
    },
    {
      "cell_type": "code",
      "source": [
        "# model_output = outputs[0][\"generated_text\"]\n",
        "# if \"<|assistant|>\" in model_output:\n",
        "#     response = model_output.split(\"<|assistant|>\")[-1]\n",
        "\n",
        "# print(response.strip())"
      ],
      "metadata": {
        "id": "riU5BERlChkr"
      },
      "execution_count": 23,
      "outputs": []
    },
    {
      "cell_type": "code",
      "source": [
        "# messages.append({\"role\": \"system\", \"content\": response})\n",
        "\n",
        "# new_input = \"Do you remember what you told me in your previous message? Can you suggest some thing to drink with the lasagna? I want alcohol free.\"\n",
        "\n",
        "# messages.append({\"role\": \"user\", \"content\": new_input})\n",
        "# print(f\"-------{messages}------\")\n",
        "\n",
        "# prompt = pipe.tokenizer.apply_chat_template(messages, tokenize=False, add_generation_prompt=True)\n",
        "# outputs = pipe(prompt, do_sample=True, temperature=0.7, top_k=50, top_p=0.95)\n",
        "\n",
        "# print(outputs[0][\"generated_text\"].strip())"
      ],
      "metadata": {
        "id": "mcCDSGuIklzb"
      },
      "execution_count": 24,
      "outputs": []
    },
    {
      "cell_type": "code",
      "source": [],
      "metadata": {
        "id": "dQiyDwOqRT9d"
      },
      "execution_count": 24,
      "outputs": []
    }
  ]
}