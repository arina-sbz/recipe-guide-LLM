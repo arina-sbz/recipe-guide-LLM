{
  "cells": [
    {
      "cell_type": "code",
      "execution_count": 2,
      "metadata": {
        "id": "sz2paJk-UYkj"
      },
      "outputs": [],
      "source": [
        "from transformers import AutoModelForCausalLM, AutoTokenizer, pipeline\n",
        "\n",
        "model = AutoModelForCausalLM.from_pretrained(\"VishalMysore/cookgptlama\")\n",
        "tokenizer = AutoTokenizer.from_pretrained(\"VishalMysore/cookgptlama\")"
      ]
    },
    {
      "cell_type": "code",
      "execution_count": 3,
      "metadata": {
        "id": "Jmsw7EWKhH7t"
      },
      "outputs": [],
      "source": [
        "pipe = pipeline(\"text-generation\", model=model, tokenizer=tokenizer)\n",
        "\n",
        "# system instruction\n",
        "messages = [\n",
        "    {\n",
        "        \"role\": \"system\",\n",
        "        \"content\": \"You are an expert chef with vast knowledge of recipes from global cuisines. Your task is to provide users with detailed recipes, including ingredients, step-by-step cooking instructions, preparation time, and tailored dietary preferences or restrictions options.\",\n",
        "    }\n",
        "]"
      ]
    },
    {
      "cell_type": "code",
      "execution_count": 4,
      "metadata": {
        "id": "VPT6cmxggMow"
      },
      "outputs": [],
      "source": [
        "# handling a conversation with the model\n",
        "def generate_response(pipe, messages, input):\n",
        "    messages.append({\"role\": \"user\", \"content\": input})\n",
        "    prompt = pipe.tokenizer.apply_chat_template(\n",
        "        messages, tokenize=False, add_generation_prompt=True\n",
        "    )\n",
        "    outputs = pipe(prompt, do_sample=True, temperature=0.7, top_k=50, top_p=0.95)\n",
        "\n",
        "    # get the assistant response from the output\n",
        "    model_response = outputs[0][\"generated_text\"].split(\"<|assistant|>\")[-1].strip()\n",
        "    # print(model_response)\n",
        "\n",
        "    # append the model's response to the messages\n",
        "    messages.append({\"role\": \"assistant\", \"content\": model_response})\n",
        "\n",
        "    return model_response, messages"
      ]
    },
    {
      "cell_type": "code",
      "execution_count": 4,
      "metadata": {
        "colab": {
          "base_uri": "https://localhost:8080/"
        },
        "id": "HuRD_8kWhzDJ",
        "outputId": "4e00cdaf-69f9-4b39-d20e-523eb4e2f779"
      },
      "outputs": [
        {
          "name": "stderr",
          "output_type": "stream",
          "text": [
            "Starting from v4.46, the `logits` model output will have the same type as the model (except at train time, where it will always be FP32)\n"
          ]
        },
        {
          "name": "stdout",
          "output_type": "stream",
          "text": [
            "Sure, I'd be happy to help! To make vegan lasagna, you will need to follow these steps:\n",
            "\n",
            "1. Heat a large pot of salted water to a boil. Add in the pasta and cook for 2-3 minutes or until al dente.\n",
            "\n",
            "2. While the pasta is cooking, prepare the meat filling. Heat a skillet over medium heat and add in the minced garlic and onion. Cook for 2-3 minutes until the onion is translucent.\n",
            "\n",
            "3. Add in the ground beef and cook until browned, breaking it up with a wooden spoon or spatula.\n",
            "\n",
            "4. Add in the diced tomatoes, kidney beans, and beef broth. Bring the mixture to a boil, then reduce the heat and let it simmer for 20-30 minutes until the beans are soft and the liquid has been absorbed.\n",
            "\n",
            "5. In the meantime, preheat the oven to 350°F.\n",
            "\n",
            "6. Roll out the lasagna noodles according to the package instructions, then place them in a 9x13 inch baking dish.\n",
            "\n",
            "7. Pour the meat and vegetable mixture over the noodles and spread it out evenly.\n",
            "\n",
            "8. Sprinkle the shredded cheese over the top of the lasagna and bake for 30-35 minutes until the top is golden brown and the cheese is melted.\n",
            "\n",
            "9. Let the lasagna cool for 5-10 minutes before slicing and serving. Serve the vegan lasagna with a side of steamed green beans, roasted potatoes, and a green salad for a delicious meal.\n",
            "\n",
            "Enjoy!\n"
          ]
        }
      ],
      "source": [
        "first_input = \"Can you tell me how to make lasagna? I'm vegan.\"\n",
        "response, messages = generate_response(pipe, messages, first_input)\n",
        "print(response)"
      ]
    },
    {
      "cell_type": "code",
      "execution_count": 5,
      "metadata": {
        "colab": {
          "base_uri": "https://localhost:8080/"
        },
        "id": "qsKh71pnh5dH",
        "outputId": "deb66316-885a-4fe6-c63f-163078ce92f2"
      },
      "outputs": [
        {
          "name": "stdout",
          "output_type": "stream",
          "text": [
            "Of course! Here's a recipe for a refreshing, non-alcoholic margarita mocktail:\n",
            "\n",
            "Ingredients:\n",
            "- 2 limes, juiced\n",
            "- 1/4 cup tequila\n",
            "- 1/4 cup triple sec (or other citrus-flavored vodka)\n",
            "- 1/2 cup fresh mint leaves, chopped\n",
            "- 1/2 cup ice\n",
            "\n",
            "Directions:\n",
            "1. In a pitcher, combine the lime juice, tequila, triple sec, and mint leaves.\n",
            "2. Stir in the ice and serve over ice in glasses or over ice in a margarita glass.\n",
            "3. Garnish with a lime wedge and enjoy!\n",
            "\n",
            "Enjoy your non-alcoholic margarita mocktail with your friends!\n"
          ]
        }
      ],
      "source": [
        "second_input = (\n",
        "    \"Can you suggest something to drink with the lasagna? I want alcohol-free.\"\n",
        ")\n",
        "response, messages = generate_response(pipe, messages, second_input)\n",
        "print(response)"
      ]
    },
    {
      "cell_type": "code",
      "execution_count": 6,
      "metadata": {
        "colab": {
          "base_uri": "https://localhost:8080/"
        },
        "id": "FQJjC5qLotaH",
        "outputId": "e97c8a20-9a8a-4163-8288-422dedbad5b9"
      },
      "outputs": [
        {
          "name": "stdout",
          "output_type": "stream",
          "text": [
            "As I'm sure you're a food lover, I'm glad to recommend a recipe for you! Here's a recipe for a delicious, healthy and creamy avocado cream cheese sauce for your favorite pasta dishes. \n",
            "\n",
            "Ingredients:\n",
            "- 1 ripe avocado, mashed\n",
            "- 1/2 cup heavy cream\n",
            "- 1/4 cup chopped fresh basil leaves\n",
            "- 1/4 cup chopped fresh parsley leaves\n",
            "- 1/4 cup chopped fresh mint leaves\n",
            "- 1/4 teaspoon salt\n",
            "- 1/4 teaspoon black pepper\n",
            "\n",
            "Instructions:\n",
            "1. In a blender or food processor, puree the mashed avocado until smooth.\n",
            "2. Add in the heavy cream, basil, parsley, mint, salt, and black pepper and puree again until the sauce is smooth.\n",
            "3. Taste the sauce and adjust the seasonings according to your preference.\n",
            "4. Serve the avocado cream cheese sauce over your favorite pasta dishes like lasagna, penne, or spaghetti carbonara for a delicious vegetarian meal.\n",
            "\n",
            "Enjoy!\n"
          ]
        }
      ],
      "source": [
        "third_input = \"What food recipe I asked for?\"\n",
        "response, messages = generate_response(pipe, messages, third_input)\n",
        "print(response)"
      ]
    },
    {
      "cell_type": "code",
      "execution_count": 7,
      "metadata": {
        "colab": {
          "base_uri": "https://localhost:8080/"
        },
        "id": "3GLJYowSkwVt",
        "outputId": "c636c5ee-7679-4070-a7e9-33378097af6b"
      },
      "outputs": [
        {
          "name": "stdout",
          "output_type": "stream",
          "text": [
            "[{'role': 'system', 'content': 'You are an expert chef with vast knowledge of recipes from global cuisines. Your task is to provide users with detailed recipes, including ingredients, step-by-step cooking instructions, preparation time, and tailored dietary preferences or restrictions options.'}, {'role': 'user', 'content': \"Can you tell me how to make lasagna? I'm vegan.\"}, {'role': 'assistant', 'content': \"Sure, I'd be happy to help! To make vegan lasagna, you will need to follow these steps:\\n\\n1. Heat a large pot of salted water to a boil. Add in the pasta and cook for 2-3 minutes or until al dente.\\n\\n2. While the pasta is cooking, prepare the meat filling. Heat a skillet over medium heat and add in the minced garlic and onion. Cook for 2-3 minutes until the onion is translucent.\\n\\n3. Add in the ground beef and cook until browned, breaking it up with a wooden spoon or spatula.\\n\\n4. Add in the diced tomatoes, kidney beans, and beef broth. Bring the mixture to a boil, then reduce the heat and let it simmer for 20-30 minutes until the beans are soft and the liquid has been absorbed.\\n\\n5. In the meantime, preheat the oven to 350°F.\\n\\n6. Roll out the lasagna noodles according to the package instructions, then place them in a 9x13 inch baking dish.\\n\\n7. Pour the meat and vegetable mixture over the noodles and spread it out evenly.\\n\\n8. Sprinkle the shredded cheese over the top of the lasagna and bake for 30-35 minutes until the top is golden brown and the cheese is melted.\\n\\n9. Let the lasagna cool for 5-10 minutes before slicing and serving. Serve the vegan lasagna with a side of steamed green beans, roasted potatoes, and a green salad for a delicious meal.\\n\\nEnjoy!\"}, {'role': 'user', 'content': 'Can you suggest something to drink with the lasagna? I want alcohol-free.'}, {'role': 'assistant', 'content': \"Of course! Here's a recipe for a refreshing, non-alcoholic margarita mocktail:\\n\\nIngredients:\\n- 2 limes, juiced\\n- 1/4 cup tequila\\n- 1/4 cup triple sec (or other citrus-flavored vodka)\\n- 1/2 cup fresh mint leaves, chopped\\n- 1/2 cup ice\\n\\nDirections:\\n1. In a pitcher, combine the lime juice, tequila, triple sec, and mint leaves.\\n2. Stir in the ice and serve over ice in glasses or over ice in a margarita glass.\\n3. Garnish with a lime wedge and enjoy!\\n\\nEnjoy your non-alcoholic margarita mocktail with your friends!\"}, {'role': 'user', 'content': 'What food recipe I asked for?'}, {'role': 'assistant', 'content': \"As I'm sure you're a food lover, I'm glad to recommend a recipe for you! Here's a recipe for a delicious, healthy and creamy avocado cream cheese sauce for your favorite pasta dishes. \\n\\nIngredients:\\n- 1 ripe avocado, mashed\\n- 1/2 cup heavy cream\\n- 1/4 cup chopped fresh basil leaves\\n- 1/4 cup chopped fresh parsley leaves\\n- 1/4 cup chopped fresh mint leaves\\n- 1/4 teaspoon salt\\n- 1/4 teaspoon black pepper\\n\\nInstructions:\\n1. In a blender or food processor, puree the mashed avocado until smooth.\\n2. Add in the heavy cream, basil, parsley, mint, salt, and black pepper and puree again until the sauce is smooth.\\n3. Taste the sauce and adjust the seasonings according to your preference.\\n4. Serve the avocado cream cheese sauce over your favorite pasta dishes like lasagna, penne, or spaghetti carbonara for a delicious vegetarian meal.\\n\\nEnjoy!\"}]\n"
          ]
        }
      ],
      "source": [
        "print(messages)"
      ]
    },
    {
      "cell_type": "code",
      "execution_count": 8,
      "metadata": {
        "id": "xYMwevXkUYrL"
      },
      "outputs": [],
      "source": [
        "# # We use the tokenizer's chat template to format each message - see https://huggingface.co/docs/transformers/main/en/chat_templating\n",
        "# pipe = pipeline(\"text-generation\", model=model, tokenizer=tokenizer, device=0)\n",
        "# messages = [\n",
        "#     {\n",
        "#         \"role\": \"system\",\n",
        "#         \"content\": \"You are an expert chef with vast knowledge of recipes from global cuisines. Your task is to provide users with detailed recipes, including ingredients, step-by-step cooking instructions, preparation time, and tailored dietary preferences or restrictions options.\",\n",
        "#     },\n",
        "#     {\"role\": \"user\", \"content\": \"Can you tell me how to make lasagna? I'm vegan.\"},\n",
        "# ]\n",
        "# prompt = pipe.tokenizer.apply_chat_template(messages, tokenize=False, add_generation_prompt=True)\n",
        "# outputs = pipe(prompt, do_sample=True, temperature=0.7, top_k=50, top_p=0.95)\n",
        "# # max_new_tokens=256,\n",
        "# print(outputs[0][\"generated_text\"])"
      ]
    },
    {
      "cell_type": "code",
      "execution_count": 9,
      "metadata": {
        "id": "Egdq1YqmbrCG"
      },
      "outputs": [],
      "source": [
        "# print(outputs)"
      ]
    },
    {
      "cell_type": "code",
      "execution_count": 10,
      "metadata": {
        "id": "riU5BERlChkr"
      },
      "outputs": [],
      "source": [
        "# model_output = outputs[0][\"generated_text\"]\n",
        "# if \"<|assistant|>\" in model_output:\n",
        "#     response = model_output.split(\"<|assistant|>\")[-1]\n",
        "\n",
        "# print(response.strip())"
      ]
    },
    {
      "cell_type": "code",
      "execution_count": 11,
      "metadata": {
        "id": "mcCDSGuIklzb"
      },
      "outputs": [],
      "source": [
        "# messages.append({\"role\": \"system\", \"content\": response})\n",
        "\n",
        "# new_input = \"Do you remember what you told me in your previous message? Can you suggest some thing to drink with the lasagna? I want alcohol free.\"\n",
        "\n",
        "# messages.append({\"role\": \"user\", \"content\": new_input})\n",
        "# print(f\"-------{messages}------\")\n",
        "\n",
        "# prompt = pipe.tokenizer.apply_chat_template(messages, tokenize=False, add_generation_prompt=True)\n",
        "# outputs = pipe(prompt, do_sample=True, temperature=0.7, top_k=50, top_p=0.95)\n",
        "\n",
        "# print(outputs[0][\"generated_text\"].strip())"
      ]
    },
    {
      "cell_type": "code",
      "execution_count": 24,
      "metadata": {
        "id": "dQiyDwOqRT9d"
      },
      "outputs": [],
      "source": []
    }
  ],
  "metadata": {
    "accelerator": "GPU",
    "colab": {
      "gpuType": "A100",
      "provenance": []
    },
    "kernelspec": {
      "display_name": "Python 3",
      "name": "python3"
    },
    "language_info": {
      "codemirror_mode": {
        "name": "ipython",
        "version": 3
      },
      "file_extension": ".py",
      "mimetype": "text/x-python",
      "name": "python",
      "nbconvert_exporter": "python",
      "pygments_lexer": "ipython3",
      "version": "3.9.10"
    }
  },
  "nbformat": 4,
  "nbformat_minor": 0
}
